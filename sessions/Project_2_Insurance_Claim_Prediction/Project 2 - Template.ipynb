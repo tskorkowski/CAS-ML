{
 "cells": [
  {
   "cell_type": "markdown",
   "metadata": {
    "id": "a7Bf9ZaIwstM"
   },
   "source": [
    "### Introduction to Machine Learning in Finance and Insurance (Spring 2024)\n",
    "# Project 2: Insurance Claim Prediction"
   ]
  },
  {
   "cell_type": "markdown",
   "metadata": {
    "id": "EIIAiZoGCFr-"
   },
   "source": [
    "### Team members: LastName1 FirstName1, LastName2 FirstName2, LastName3 FirstName3"
   ]
  },
  {
   "cell_type": "code",
   "execution_count": 6,
   "metadata": {
    "id": "tBchH-QYCFr-"
   },
   "outputs": [],
   "source": [
    "### Import all the Python libraries you are going to use\n",
    "import numpy as np\n",
    "import matplotlib.pyplot as plt\n",
    "import seaborn as sns\n",
    "import pandas as pd"
   ]
  },
  {
   "cell_type": "code",
   "execution_count": 2,
   "metadata": {
    "id": "xy1f6bjaCFr_"
   },
   "outputs": [],
   "source": [
    "### Fix random seed for reproducibility\n",
    "np.random.seed(10)"
   ]
  },
  {
   "cell_type": "markdown",
   "metadata": {
    "id": "79GLxyheCFsA"
   },
   "source": [
    "# Exercise 1. Poisson GLM."
   ]
  },
  {
   "cell_type": "code",
   "execution_count": 14,
   "metadata": {
    "id": "myAkFsvViXUx"
   },
   "outputs": [],
   "source": [
    "# Read csv file\n",
    "# You can use pandas (see the notebook \"Project 2 - Insurance Claim Prediction - Sandbox\")\n",
    "mtpl_freq_df = pd.read_csv('freMTPL2freq.csv',\n",
    "                           sep=';',\n",
    "                           decimal=',')"
   ]
  },
  {
   "cell_type": "code",
   "execution_count": 15,
   "metadata": {},
   "outputs": [
    {
     "name": "stdout",
     "output_type": "stream",
     "text": [
      "<class 'pandas.core.frame.DataFrame'>\n",
      "RangeIndex: 678007 entries, 0 to 678006\n",
      "Data columns (total 10 columns):\n",
      " #   Column      Non-Null Count   Dtype  \n",
      "---  ------      --------------   -----  \n",
      " 0   VehPower    678007 non-null  int64  \n",
      " 1   VehAge      678007 non-null  int64  \n",
      " 2   DrivAge     678007 non-null  int64  \n",
      " 3   BonusMalus  678007 non-null  int64  \n",
      " 4   VehBrand    678007 non-null  object \n",
      " 5   VehGas      678007 non-null  object \n",
      " 6   Density     678007 non-null  int64  \n",
      " 7   Region      678007 non-null  object \n",
      " 8   Exposure    678007 non-null  float64\n",
      " 9   ClaimNb     678007 non-null  int64  \n",
      "dtypes: float64(1), int64(6), object(3)\n",
      "memory usage: 51.7+ MB\n"
     ]
    }
   ],
   "source": [
    "mtpl_freq_df.info()"
   ]
  },
  {
   "cell_type": "code",
   "execution_count": 21,
   "metadata": {},
   "outputs": [
    {
     "data": {
      "text/plain": [
       "True"
      ]
     },
     "execution_count": 21,
     "metadata": {},
     "output_type": "execute_result"
    }
   ],
   "source": [
    "# Check that exposure is always positive\n",
    "all(mtpl_freq_df.Exposure > 0)"
   ]
  },
  {
   "cell_type": "code",
   "execution_count": 23,
   "metadata": {},
   "outputs": [
    {
     "data": {
      "text/html": [
       "<div>\n",
       "<style scoped>\n",
       "    .dataframe tbody tr th:only-of-type {\n",
       "        vertical-align: middle;\n",
       "    }\n",
       "\n",
       "    .dataframe tbody tr th {\n",
       "        vertical-align: top;\n",
       "    }\n",
       "\n",
       "    .dataframe thead th {\n",
       "        text-align: right;\n",
       "    }\n",
       "</style>\n",
       "<table border=\"1\" class=\"dataframe\">\n",
       "  <thead>\n",
       "    <tr style=\"text-align: right;\">\n",
       "      <th></th>\n",
       "      <th>VehPower</th>\n",
       "      <th>VehAge</th>\n",
       "      <th>DrivAge</th>\n",
       "      <th>BonusMalus</th>\n",
       "      <th>Density</th>\n",
       "      <th>Exposure</th>\n",
       "      <th>ClaimNb</th>\n",
       "      <th>Freq</th>\n",
       "    </tr>\n",
       "  </thead>\n",
       "  <tbody>\n",
       "    <tr>\n",
       "      <th>count</th>\n",
       "      <td>678007.000000</td>\n",
       "      <td>678007.000000</td>\n",
       "      <td>678007.000000</td>\n",
       "      <td>678007.000000</td>\n",
       "      <td>678007.000000</td>\n",
       "      <td>678007.000000</td>\n",
       "      <td>678007.000000</td>\n",
       "      <td>678007.000000</td>\n",
       "    </tr>\n",
       "    <tr>\n",
       "      <th>mean</th>\n",
       "      <td>6.454653</td>\n",
       "      <td>7.044218</td>\n",
       "      <td>45.499061</td>\n",
       "      <td>59.761588</td>\n",
       "      <td>1792.430975</td>\n",
       "      <td>0.528547</td>\n",
       "      <td>0.038913</td>\n",
       "      <td>0.117907</td>\n",
       "    </tr>\n",
       "    <tr>\n",
       "      <th>std</th>\n",
       "      <td>2.050902</td>\n",
       "      <td>5.666235</td>\n",
       "      <td>14.137492</td>\n",
       "      <td>15.636700</td>\n",
       "      <td>3958.663031</td>\n",
       "      <td>0.364081</td>\n",
       "      <td>0.204752</td>\n",
       "      <td>2.002881</td>\n",
       "    </tr>\n",
       "    <tr>\n",
       "      <th>min</th>\n",
       "      <td>4.000000</td>\n",
       "      <td>0.000000</td>\n",
       "      <td>18.000000</td>\n",
       "      <td>50.000000</td>\n",
       "      <td>1.000000</td>\n",
       "      <td>0.002732</td>\n",
       "      <td>0.000000</td>\n",
       "      <td>0.000000</td>\n",
       "    </tr>\n",
       "    <tr>\n",
       "      <th>25%</th>\n",
       "      <td>5.000000</td>\n",
       "      <td>2.000000</td>\n",
       "      <td>34.000000</td>\n",
       "      <td>50.000000</td>\n",
       "      <td>92.000000</td>\n",
       "      <td>0.180000</td>\n",
       "      <td>0.000000</td>\n",
       "      <td>0.000000</td>\n",
       "    </tr>\n",
       "    <tr>\n",
       "      <th>50%</th>\n",
       "      <td>6.000000</td>\n",
       "      <td>6.000000</td>\n",
       "      <td>44.000000</td>\n",
       "      <td>50.000000</td>\n",
       "      <td>393.000000</td>\n",
       "      <td>0.490000</td>\n",
       "      <td>0.000000</td>\n",
       "      <td>0.000000</td>\n",
       "    </tr>\n",
       "    <tr>\n",
       "      <th>75%</th>\n",
       "      <td>7.000000</td>\n",
       "      <td>11.000000</td>\n",
       "      <td>55.000000</td>\n",
       "      <td>64.000000</td>\n",
       "      <td>1658.000000</td>\n",
       "      <td>0.990000</td>\n",
       "      <td>0.000000</td>\n",
       "      <td>0.000000</td>\n",
       "    </tr>\n",
       "    <tr>\n",
       "      <th>max</th>\n",
       "      <td>15.000000</td>\n",
       "      <td>100.000000</td>\n",
       "      <td>100.000000</td>\n",
       "      <td>230.000000</td>\n",
       "      <td>27000.000000</td>\n",
       "      <td>1.000000</td>\n",
       "      <td>5.000000</td>\n",
       "      <td>365.000000</td>\n",
       "    </tr>\n",
       "  </tbody>\n",
       "</table>\n",
       "</div>"
      ],
      "text/plain": [
       "            VehPower         VehAge        DrivAge     BonusMalus  \\\n",
       "count  678007.000000  678007.000000  678007.000000  678007.000000   \n",
       "mean        6.454653       7.044218      45.499061      59.761588   \n",
       "std         2.050902       5.666235      14.137492      15.636700   \n",
       "min         4.000000       0.000000      18.000000      50.000000   \n",
       "25%         5.000000       2.000000      34.000000      50.000000   \n",
       "50%         6.000000       6.000000      44.000000      50.000000   \n",
       "75%         7.000000      11.000000      55.000000      64.000000   \n",
       "max        15.000000     100.000000     100.000000     230.000000   \n",
       "\n",
       "             Density       Exposure        ClaimNb           Freq  \n",
       "count  678007.000000  678007.000000  678007.000000  678007.000000  \n",
       "mean     1792.430975       0.528547       0.038913       0.117907  \n",
       "std      3958.663031       0.364081       0.204752       2.002881  \n",
       "min         1.000000       0.002732       0.000000       0.000000  \n",
       "25%        92.000000       0.180000       0.000000       0.000000  \n",
       "50%       393.000000       0.490000       0.000000       0.000000  \n",
       "75%      1658.000000       0.990000       0.000000       0.000000  \n",
       "max     27000.000000       1.000000       5.000000     365.000000  "
      ]
     },
     "execution_count": 23,
     "metadata": {},
     "output_type": "execute_result"
    }
   ],
   "source": [
    "# Add frequency to the data\n",
    "mtpl_freq_df['Freq'] = mtpl_freq_df.ClaimNb / mtpl_freq_df.Exposure\n",
    "mtpl_freq_df.describe()"
   ]
  },
  {
   "cell_type": "code",
   "execution_count": 57,
   "metadata": {},
   "outputs": [
    {
     "data": {
      "image/png": "[encoded data removed]",
      "text/plain": [
       "<Figure size 640x480 with 1 Axes>"
      ]
     },
     "metadata": {},
     "output_type": "display_data"
    }
   ],
   "source": [
    "mtpl_features, mtpl_response = mtpl_freq_df.columns[:-3], mtpl_freq_df.columns[-3:]\n",
    "fig, ax = \n",
    "plt.tight_layout()\n",
    "plt.show()"
   ]
  },
  {
   "cell_type": "code",
   "execution_count": null,
   "metadata": {},
   "outputs": [],
   "source": []
  },
  {
   "cell_type": "markdown",
   "metadata": {},
   "source": []
  },
  {
   "cell_type": "code",
   "execution_count": 46,
   "metadata": {},
   "outputs": [
    {
     "ename": "ValueError",
     "evalue": "Mime type rendering requires nbformat>=4.2.0 but it is not installed",
     "output_type": "error",
     "traceback": [
      "\u001b[1;31m---------------------------------------------------------------------------\u001b[0m",
      "\u001b[1;31mValueError\u001b[0m                                Traceback (most recent call last)",
      "Cell \u001b[1;32mIn[46], line 16\u001b[0m\n\u001b[0;32m      8\u001b[0m \u001b[38;5;66;03m# Customize axes and titles\u001b[39;00m\n\u001b[0;32m      9\u001b[0m fig\u001b[38;5;241m.\u001b[39mupdate_layout(\n\u001b[0;32m     10\u001b[0m     xaxis\u001b[38;5;241m=\u001b[39m\u001b[38;5;28mdict\u001b[39m(domain\u001b[38;5;241m=\u001b[39m[\u001b[38;5;241m0.25\u001b[39m, \u001b[38;5;241m0.75\u001b[39m]),\n\u001b[0;32m     11\u001b[0m     yaxis\u001b[38;5;241m=\u001b[39m\u001b[38;5;28mdict\u001b[39m(title\u001b[38;5;241m=\u001b[39m\u001b[38;5;124m\"\u001b[39m\u001b[38;5;124myaxis title\u001b[39m\u001b[38;5;124m\"\u001b[39m),\n\u001b[1;32m   (...)\u001b[0m\n\u001b[0;32m     14\u001b[0m     title_text\u001b[38;5;241m=\u001b[39m\u001b[38;5;124m\"\u001b[39m\u001b[38;5;124mShifting y-axes with autoshift\u001b[39m\u001b[38;5;124m\"\u001b[39m\n\u001b[0;32m     15\u001b[0m )\n\u001b[1;32m---> 16\u001b[0m \u001b[43mfig\u001b[49m\u001b[38;5;241;43m.\u001b[39;49m\u001b[43mshow\u001b[49m\u001b[43m(\u001b[49m\u001b[43m)\u001b[49m\n",
      "File \u001b[1;32mc:\\Users\\tskor\\Documents\\GitHub\\CAS-ML\\venv\\lib\\site-packages\\plotly\\basedatatypes.py:3410\u001b[0m, in \u001b[0;36mBaseFigure.show\u001b[1;34m(self, *args, **kwargs)\u001b[0m\n\u001b[0;32m   3377\u001b[0m \u001b[38;5;250m\u001b[39m\u001b[38;5;124;03m\"\"\"\u001b[39;00m\n\u001b[0;32m   3378\u001b[0m \u001b[38;5;124;03mShow a figure using either the default renderer(s) or the renderer(s)\u001b[39;00m\n\u001b[0;32m   3379\u001b[0m \u001b[38;5;124;03mspecified by the renderer argument\u001b[39;00m\n\u001b[1;32m   (...)\u001b[0m\n\u001b[0;32m   3406\u001b[0m \u001b[38;5;124;03mNone\u001b[39;00m\n\u001b[0;32m   3407\u001b[0m \u001b[38;5;124;03m\"\"\"\u001b[39;00m\n\u001b[0;32m   3408\u001b[0m \u001b[38;5;28;01mimport\u001b[39;00m \u001b[38;5;21;01mplotly\u001b[39;00m\u001b[38;5;21;01m.\u001b[39;00m\u001b[38;5;21;01mio\u001b[39;00m \u001b[38;5;28;01mas\u001b[39;00m \u001b[38;5;21;01mpio\u001b[39;00m\n\u001b[1;32m-> 3410\u001b[0m \u001b[38;5;28;01mreturn\u001b[39;00m pio\u001b[38;5;241m.\u001b[39mshow(\u001b[38;5;28mself\u001b[39m, \u001b[38;5;241m*\u001b[39margs, \u001b[38;5;241m*\u001b[39m\u001b[38;5;241m*\u001b[39mkwargs)\n",
      "File \u001b[1;32mc:\\Users\\tskor\\Documents\\GitHub\\CAS-ML\\venv\\lib\\site-packages\\plotly\\io\\_renderers.py:394\u001b[0m, in \u001b[0;36mshow\u001b[1;34m(fig, renderer, validate, **kwargs)\u001b[0m\n\u001b[0;32m    389\u001b[0m         \u001b[38;5;28;01mraise\u001b[39;00m \u001b[38;5;167;01mValueError\u001b[39;00m(\n\u001b[0;32m    390\u001b[0m             \u001b[38;5;124m\"\u001b[39m\u001b[38;5;124mMime type rendering requires ipython but it is not installed\u001b[39m\u001b[38;5;124m\"\u001b[39m\n\u001b[0;32m    391\u001b[0m         )\n\u001b[0;32m    393\u001b[0m     \u001b[38;5;28;01mif\u001b[39;00m \u001b[38;5;129;01mnot\u001b[39;00m nbformat \u001b[38;5;129;01mor\u001b[39;00m Version(nbformat\u001b[38;5;241m.\u001b[39m__version__) \u001b[38;5;241m<\u001b[39m Version(\u001b[38;5;124m\"\u001b[39m\u001b[38;5;124m4.2.0\u001b[39m\u001b[38;5;124m\"\u001b[39m):\n\u001b[1;32m--> 394\u001b[0m         \u001b[38;5;28;01mraise\u001b[39;00m \u001b[38;5;167;01mValueError\u001b[39;00m(\n\u001b[0;32m    395\u001b[0m             \u001b[38;5;124m\"\u001b[39m\u001b[38;5;124mMime type rendering requires nbformat>=4.2.0 but it is not installed\u001b[39m\u001b[38;5;124m\"\u001b[39m\n\u001b[0;32m    396\u001b[0m         )\n\u001b[0;32m    398\u001b[0m     ipython_display\u001b[38;5;241m.\u001b[39mdisplay(bundle, raw\u001b[38;5;241m=\u001b[39m\u001b[38;5;28;01mTrue\u001b[39;00m)\n\u001b[0;32m    400\u001b[0m \u001b[38;5;66;03m# external renderers\u001b[39;00m\n",
      "\u001b[1;31mValueError\u001b[0m: Mime type rendering requires nbformat>=4.2.0 but it is not installed"
     ]
    }
   ],
   "source": [
    "import plotly.graph_objects as go\n",
    "\n",
    "fig = go.Figure()\n",
    "fig.add_trace(go.Scatter(x=[1, 2, 3], y=[4, 5, 6], name=\"yaxis data\"))\n",
    "fig.add_trace(go.Scatter(x=[2, 3, 4], y=[40, 50, 60], name=\"yaxis2 data\", yaxis=\"y2\"))\n",
    "fig.add_trace(go.Scatter(x=[4, 5, 6], y=[1000, 2000, 3000], name=\"yaxis3 data\", yaxis=\"y3\"))\n",
    "\n",
    "# Customize axes and titles\n",
    "fig.update_layout(\n",
    "    xaxis=dict(domain=[0.25, 0.75]),\n",
    "    yaxis=dict(title=\"yaxis title\"),\n",
    "    yaxis2=dict(title=\"yaxis2 title\", overlaying=\"y\", side=\"right\"),\n",
    "    yaxis3=dict(title=\"yaxis3 title\", anchor=\"free\", overlaying=\"y\", autoshift=True),\n",
    "    title_text=\"Shifting y-axes with autoshift\"\n",
    ")\n",
    "fig.show()"
   ]
  },
  {
   "cell_type": "code",
   "execution_count": null,
   "metadata": {},
   "outputs": [],
   "source": [
    "# Pre-process features\n"
   ]
  },
  {
   "cell_type": "code",
   "execution_count": null,
   "metadata": {},
   "outputs": [],
   "source": [
    "# Train-test split\n"
   ]
  },
  {
   "cell_type": "code",
   "execution_count": 3,
   "metadata": {},
   "outputs": [],
   "source": [
    "# Train Poisson GLM\n",
    "# You can use sklearn.linear_model.Poisson_Regressor (see the notebook \"Project 2 - Insurance Claim Prediction - Sandbox\")\n"
   ]
  },
  {
   "cell_type": "code",
   "execution_count": null,
   "metadata": {},
   "outputs": [],
   "source": [
    "# Print MAE, MSE and loss on train and test data sets\n"
   ]
  },
  {
   "cell_type": "markdown",
   "metadata": {
    "id": "4L0pOrESCFsA"
   },
   "source": [
    "# Exercise 2. Poisson feedforward neural network."
   ]
  },
  {
   "cell_type": "code",
   "execution_count": null,
   "metadata": {
    "id": "wrE1FTViCFsC"
   },
   "outputs": [],
   "source": [
    "# Implement and train a neural network model\n",
    "# You can use Keras (see the notebook \"Project 2 - Insurance Claim Prediction - Sandbox\")\n"
   ]
  },
  {
   "cell_type": "code",
   "execution_count": 1,
   "metadata": {},
   "outputs": [],
   "source": [
    "# Print MAE, MSE and loss on train and test data sets\n"
   ]
  }
 ],
 "metadata": {
  "colab": {
   "provenance": []
  },
  "kernelspec": {
   "display_name": "Python 3 (ipykernel)",
   "language": "python",
   "name": "python3"
  },
  "language_info": {
   "codemirror_mode": {
    "name": "ipython",
    "version": 3
   },
   "file_extension": ".py",
   "mimetype": "text/x-python",
   "name": "python",
   "nbconvert_exporter": "python",
   "pygments_lexer": "ipython3",
   "version": "3.10.8"
  }
 },
 "nbformat": 4,
 "nbformat_minor": 4
}
