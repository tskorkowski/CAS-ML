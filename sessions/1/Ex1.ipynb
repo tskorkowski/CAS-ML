{
  "nbformat": 4,
  "nbformat_minor": 0,
  "metadata": {
    "colab": {
      "provenance": []
    },
    "kernelspec": {
      "name": "python3",
      "display_name": "Python 3"
    },
    "language_info": {
      "name": "python"
    }
  },
  "cells": [
    {
      "cell_type": "markdown",
      "source": [
        "2. Given the training dataset {(xi\n",
        ", yi)}\n",
        "n\n",
        "i=1 and a linear regression model in d variables, write\n",
        "down the least squares loss function."
      ],
      "metadata": {
        "id": "BJzfOoMJLyyR"
      }
    },
    {
      "cell_type": "markdown",
      "source": [
        "L(f(X),Y)= 1/n ∑(f(x_i)-y_i)^2"
      ],
      "metadata": {
        "id": "Z6uLyIcXL3-0"
      }
    },
    {
      "cell_type": "markdown",
      "source": [
        "7. (Extra) In Python, create a synthetic dataset for a linear regression model with one predic\u0002tor variable. Implement a function that computes the regression coefficients analytically,\n",
        "given your synthetic data. Verify your results by computing the coefficients using the\n",
        "function LinearRegression() in sklearn."
      ],
      "metadata": {
        "id": "dICdYn0GenKt"
      }
    },
    {
      "cell_type": "code",
      "source": [
        "import numpy as np"
      ],
      "metadata": {
        "id": "Nga_11MOew8z"
      },
      "execution_count": 2,
      "outputs": []
    },
    {
      "cell_type": "code",
      "source": [
        "# Create some input / output data\n",
        "x = np.array([0.03, 0.19, 0.34, 0.46, 0.78, 0.81, 1.08, 1.18, 1.39, 1.60, 1.65, 1.90])\n",
        "y = np.array([0.67, 0.85, 1.05, 1.00, 1.40, 1.50, 1.30, 1.54, 1.55, 1.68, 1.73, 1.60])"
      ],
      "metadata": {
        "id": "bA6HUx-nemLX"
      },
      "execution_count": 3,
      "outputs": []
    },
    {
      "cell_type": "code",
      "source": [
        "# Let us import the linear regression function from sklearn\n",
        "from sklearn.linear_model import LinearRegression"
      ],
      "metadata": {
        "id": "RCVXEAhNfFgT"
      },
      "execution_count": 5,
      "outputs": []
    },
    {
      "cell_type": "code",
      "source": [
        "# Learning/training the linear regression on our data (no train vs. test split this time for simplicity)\n",
        "lin_reg = LinearRegression().fit(x.reshape(-1, 1), y.reshape(-1, 1)) # we need to reshape inputs\n",
        "\n",
        "print('Estimated intercept:', lin_reg.intercept_.round(2)) # let us keep only two decimal places (you can do it in different ways)\n",
        "print('Estimated slope:', lin_reg.coef_.round(2)) # let us keep only two decimal places (you can do it in different ways)"
      ],
      "metadata": {
        "colab": {
          "base_uri": "https://localhost:8080/"
        },
        "id": "72yaJ2pFMmoG",
        "outputId": "b6af1f69-4e81-4300-bdc1-2ceab71f92e2"
      },
      "execution_count": 6,
      "outputs": [
        {
          "output_type": "stream",
          "name": "stdout",
          "text": [
            "Estimated intercept: [0.83]\n",
            "Estimated slope: [[0.52]]\n"
          ]
        }
      ]
    },
    {
      "cell_type": "code",
      "source": [
        "# Lets check analytical solution\n",
        "n = len(x)\n",
        "slope = (1/n * sum(x) * sum(y) - sum(x*y) ) \\\n",
        "        / (sum(x)**2/n - sum(x**2))\n",
        "intercept = sum(y - slope*x)/n"
      ],
      "metadata": {
        "id": "3STihvipfLs2"
      },
      "execution_count": 10,
      "outputs": []
    },
    {
      "cell_type": "code",
      "source": [
        "print('Analytical intercept:', slope.round(2)) # let us keep only two decimal places (you can do it in different ways)\n",
        "print('Analytical slope:', intercept.round(2)) # let us keep only two decimal places (you can do it in different ways)"
      ],
      "metadata": {
        "colab": {
          "base_uri": "https://localhost:8080/"
        },
        "id": "koYuV7RSfO_I",
        "outputId": "af7be7d4-1b32-4f07-91d1-b68b81d772f8"
      },
      "execution_count": 11,
      "outputs": [
        {
          "output_type": "stream",
          "name": "stdout",
          "text": [
            "Analytical intercept: 0.52\n",
            "Analytical slope: 0.83\n"
          ]
        }
      ]
    }
  ]
}